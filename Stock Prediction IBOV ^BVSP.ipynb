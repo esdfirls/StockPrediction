{
 "cells": [
  {
   "cell_type": "markdown",
   "id": "retained-terrain",
   "metadata": {},
   "source": [
    "### Importing Libraries"
   ]
  },
  {
   "cell_type": "code",
   "execution_count": 266,
   "id": "secure-labor",
   "metadata": {},
   "outputs": [],
   "source": [
    "from pandas_datareader import data, wb\n",
    "import pandas as pd\n",
    "import numpy as np\n",
    "import datetime\n",
    "import seaborn as sns\n",
    "sns.set_style('whitegrid')\n",
    "import matplotlib.pyplot as plt\n",
    "from sklearn.neural_network import MLPRegressor\n",
    "from sklearn.model_selection import train_test_split, cross_val_score, cross_val_predict\n",
    "from sklearn.metrics import r2_score, mean_absolute_error, mean_squared_error\n",
    "from sklearn.linear_model import Ridge, Lasso, ElasticNet, LinearRegression\n",
    "from sklearn.tree import DecisionTreeRegressor\n",
    "from sklearn.ensemble import RandomForestRegressor, GradientBoostingRegressor, AdaBoostRegressor\n",
    "from sklearn.svm import SVR\n",
    "methods = [Ridge, Lasso, ElasticNet, LinearRegression, DecisionTreeRegressor, RandomForestRegressor, SVR, GradientBoostingRegressor, AdaBoostRegressor]"
   ]
  },
  {
   "cell_type": "markdown",
   "id": "visible-chinese",
   "metadata": {},
   "source": [
    "### Get Date and Datetime values"
   ]
  },
  {
   "cell_type": "code",
   "execution_count": 2,
   "id": "capable-supplier",
   "metadata": {},
   "outputs": [],
   "source": [
    "today = datetime.date.today()\n",
    "yesterday = today - datetime.timedelta(days=1)\n",
    "stock = \"^BVSP\""
   ]
  },
  {
   "cell_type": "markdown",
   "id": "above-fifty",
   "metadata": {},
   "source": [
    "### Collecting data from Yahoo API, for X we take data until yesterday, for y we take X+1 day Adj Close values"
   ]
  },
  {
   "cell_type": "code",
   "execution_count": 146,
   "id": "christian-economics",
   "metadata": {},
   "outputs": [
    {
     "data": {
      "text/html": [
       "<div>\n",
       "<style scoped>\n",
       "    .dataframe tbody tr th:only-of-type {\n",
       "        vertical-align: middle;\n",
       "    }\n",
       "\n",
       "    .dataframe tbody tr th {\n",
       "        vertical-align: top;\n",
       "    }\n",
       "\n",
       "    .dataframe thead th {\n",
       "        text-align: right;\n",
       "    }\n",
       "</style>\n",
       "<table border=\"1\" class=\"dataframe\">\n",
       "  <thead>\n",
       "    <tr style=\"text-align: right;\">\n",
       "      <th></th>\n",
       "      <th>Date</th>\n",
       "      <th>High</th>\n",
       "      <th>Low</th>\n",
       "      <th>Open</th>\n",
       "      <th>Close</th>\n",
       "      <th>Volume</th>\n",
       "      <th>Adj Close</th>\n",
       "    </tr>\n",
       "  </thead>\n",
       "  <tbody>\n",
       "    <tr>\n",
       "      <th>1228</th>\n",
       "      <td>2021-04-05</td>\n",
       "      <td>117668.0</td>\n",
       "      <td>115262.0</td>\n",
       "      <td>115262.0</td>\n",
       "      <td>117518.0</td>\n",
       "      <td>7245100.0</td>\n",
       "      <td>117518.0</td>\n",
       "    </tr>\n",
       "    <tr>\n",
       "      <th>1229</th>\n",
       "      <td>2021-04-06</td>\n",
       "      <td>118213.0</td>\n",
       "      <td>117176.0</td>\n",
       "      <td>117519.0</td>\n",
       "      <td>117499.0</td>\n",
       "      <td>6800800.0</td>\n",
       "      <td>117499.0</td>\n",
       "    </tr>\n",
       "    <tr>\n",
       "      <th>1230</th>\n",
       "      <td>2021-04-07</td>\n",
       "      <td>118303.0</td>\n",
       "      <td>116748.0</td>\n",
       "      <td>117499.0</td>\n",
       "      <td>117624.0</td>\n",
       "      <td>0.0</td>\n",
       "      <td>117624.0</td>\n",
       "    </tr>\n",
       "    <tr>\n",
       "      <th>1231</th>\n",
       "      <td>2021-04-08</td>\n",
       "      <td>118850.0</td>\n",
       "      <td>117486.0</td>\n",
       "      <td>117624.0</td>\n",
       "      <td>118313.0</td>\n",
       "      <td>8778200.0</td>\n",
       "      <td>118313.0</td>\n",
       "    </tr>\n",
       "    <tr>\n",
       "      <th>1232</th>\n",
       "      <td>2021-04-09</td>\n",
       "      <td>118643.0</td>\n",
       "      <td>117336.0</td>\n",
       "      <td>118313.0</td>\n",
       "      <td>117670.0</td>\n",
       "      <td>7739400.0</td>\n",
       "      <td>117670.0</td>\n",
       "    </tr>\n",
       "  </tbody>\n",
       "</table>\n",
       "</div>"
      ],
      "text/plain": [
       "           Date      High       Low      Open     Close     Volume  Adj Close\n",
       "1228 2021-04-05  117668.0  115262.0  115262.0  117518.0  7245100.0   117518.0\n",
       "1229 2021-04-06  118213.0  117176.0  117519.0  117499.0  6800800.0   117499.0\n",
       "1230 2021-04-07  118303.0  116748.0  117499.0  117624.0        0.0   117624.0\n",
       "1231 2021-04-08  118850.0  117486.0  117624.0  118313.0  8778200.0   118313.0\n",
       "1232 2021-04-09  118643.0  117336.0  118313.0  117670.0  7739400.0   117670.0"
      ]
     },
     "execution_count": 146,
     "metadata": {},
     "output_type": "execute_result"
    }
   ],
   "source": [
    "Xstock = data.DataReader(stock, 'yahoo', end=yesterday)\n",
    "ystock = data.DataReader(stock, 'yahoo')\n",
    "Xstock = Xstock.reset_index()\n",
    "Xstock.tail()"
   ]
  },
  {
   "cell_type": "code",
   "execution_count": 148,
   "id": "bizarre-hungarian",
   "metadata": {},
   "outputs": [
    {
     "name": "stdout",
     "output_type": "stream",
     "text": [
      "<class 'pandas.core.frame.DataFrame'>\n",
      "RangeIndex: 1233 entries, 0 to 1232\n",
      "Data columns (total 7 columns):\n",
      " #   Column     Non-Null Count  Dtype         \n",
      "---  ------     --------------  -----         \n",
      " 0   Date       1233 non-null   datetime64[ns]\n",
      " 1   High       1233 non-null   float64       \n",
      " 2   Low        1233 non-null   float64       \n",
      " 3   Open       1233 non-null   float64       \n",
      " 4   Close      1233 non-null   float64       \n",
      " 5   Volume     1233 non-null   float64       \n",
      " 6   Adj Close  1233 non-null   float64       \n",
      "dtypes: datetime64[ns](1), float64(6)\n",
      "memory usage: 67.6 KB\n"
     ]
    }
   ],
   "source": [
    "Xstock.info()"
   ]
  },
  {
   "cell_type": "code",
   "execution_count": 150,
   "id": "dense-hughes",
   "metadata": {},
   "outputs": [
    {
     "data": {
      "text/html": [
       "<div>\n",
       "<style scoped>\n",
       "    .dataframe tbody tr th:only-of-type {\n",
       "        vertical-align: middle;\n",
       "    }\n",
       "\n",
       "    .dataframe tbody tr th {\n",
       "        vertical-align: top;\n",
       "    }\n",
       "\n",
       "    .dataframe thead th {\n",
       "        text-align: right;\n",
       "    }\n",
       "</style>\n",
       "<table border=\"1\" class=\"dataframe\">\n",
       "  <thead>\n",
       "    <tr style=\"text-align: right;\">\n",
       "      <th></th>\n",
       "      <th>High</th>\n",
       "      <th>Low</th>\n",
       "      <th>Open</th>\n",
       "      <th>Close</th>\n",
       "      <th>Volume</th>\n",
       "      <th>Adj Close</th>\n",
       "    </tr>\n",
       "  </thead>\n",
       "  <tbody>\n",
       "    <tr>\n",
       "      <th>count</th>\n",
       "      <td>1233.000000</td>\n",
       "      <td>1233.000000</td>\n",
       "      <td>1233.000000</td>\n",
       "      <td>1233.000000</td>\n",
       "      <td>1.233000e+03</td>\n",
       "      <td>1233.000000</td>\n",
       "    </tr>\n",
       "    <tr>\n",
       "      <th>mean</th>\n",
       "      <td>85117.134631</td>\n",
       "      <td>83463.832117</td>\n",
       "      <td>84267.257097</td>\n",
       "      <td>84324.652879</td>\n",
       "      <td>5.275114e+06</td>\n",
       "      <td>84324.652879</td>\n",
       "    </tr>\n",
       "    <tr>\n",
       "      <th>std</th>\n",
       "      <td>19486.198859</td>\n",
       "      <td>19203.816262</td>\n",
       "      <td>19350.236209</td>\n",
       "      <td>19359.680253</td>\n",
       "      <td>3.080425e+06</td>\n",
       "      <td>19359.680253</td>\n",
       "    </tr>\n",
       "    <tr>\n",
       "      <th>min</th>\n",
       "      <td>49057.000000</td>\n",
       "      <td>48067.000000</td>\n",
       "      <td>48468.000000</td>\n",
       "      <td>48472.000000</td>\n",
       "      <td>0.000000e+00</td>\n",
       "      <td>48472.000000</td>\n",
       "    </tr>\n",
       "    <tr>\n",
       "      <th>25%</th>\n",
       "      <td>67094.000000</td>\n",
       "      <td>65860.000000</td>\n",
       "      <td>66504.000000</td>\n",
       "      <td>66662.000000</td>\n",
       "      <td>3.283200e+06</td>\n",
       "      <td>66662.000000</td>\n",
       "    </tr>\n",
       "    <tr>\n",
       "      <th>50%</th>\n",
       "      <td>84956.000000</td>\n",
       "      <td>83178.000000</td>\n",
       "      <td>84040.000000</td>\n",
       "      <td>84084.000000</td>\n",
       "      <td>4.152200e+06</td>\n",
       "      <td>84084.000000</td>\n",
       "    </tr>\n",
       "    <tr>\n",
       "      <th>75%</th>\n",
       "      <td>101240.000000</td>\n",
       "      <td>99373.000000</td>\n",
       "      <td>100262.000000</td>\n",
       "      <td>100275.000000</td>\n",
       "      <td>6.315600e+06</td>\n",
       "      <td>100275.000000</td>\n",
       "    </tr>\n",
       "    <tr>\n",
       "      <th>max</th>\n",
       "      <td>125324.000000</td>\n",
       "      <td>123227.000000</td>\n",
       "      <td>125075.000000</td>\n",
       "      <td>125077.000000</td>\n",
       "      <td>2.176870e+07</td>\n",
       "      <td>125077.000000</td>\n",
       "    </tr>\n",
       "  </tbody>\n",
       "</table>\n",
       "</div>"
      ],
      "text/plain": [
       "                High            Low           Open          Close  \\\n",
       "count    1233.000000    1233.000000    1233.000000    1233.000000   \n",
       "mean    85117.134631   83463.832117   84267.257097   84324.652879   \n",
       "std     19486.198859   19203.816262   19350.236209   19359.680253   \n",
       "min     49057.000000   48067.000000   48468.000000   48472.000000   \n",
       "25%     67094.000000   65860.000000   66504.000000   66662.000000   \n",
       "50%     84956.000000   83178.000000   84040.000000   84084.000000   \n",
       "75%    101240.000000   99373.000000  100262.000000  100275.000000   \n",
       "max    125324.000000  123227.000000  125075.000000  125077.000000   \n",
       "\n",
       "             Volume      Adj Close  \n",
       "count  1.233000e+03    1233.000000  \n",
       "mean   5.275114e+06   84324.652879  \n",
       "std    3.080425e+06   19359.680253  \n",
       "min    0.000000e+00   48472.000000  \n",
       "25%    3.283200e+06   66662.000000  \n",
       "50%    4.152200e+06   84084.000000  \n",
       "75%    6.315600e+06  100275.000000  \n",
       "max    2.176870e+07  125077.000000  "
      ]
     },
     "execution_count": 150,
     "metadata": {},
     "output_type": "execute_result"
    }
   ],
   "source": [
    "Xstock.describe()"
   ]
  },
  {
   "cell_type": "markdown",
   "id": "wired-cradle",
   "metadata": {},
   "source": [
    "### Searching for outliers"
   ]
  },
  {
   "cell_type": "code",
   "execution_count": 155,
   "id": "flexible-midwest",
   "metadata": {},
   "outputs": [
    {
     "data": {
      "text/plain": [
       "<AxesSubplot:ylabel='High'>"
      ]
     },
     "execution_count": 155,
     "metadata": {},
     "output_type": "execute_result"
    },
    {
     "data": {
      "image/png": "[encoded data removed]",
      "text/plain": [
       "<Figure size 432x288 with 1 Axes>"
      ]
     },
     "metadata": {},
     "output_type": "display_data"
    }
   ],
   "source": [
    "sns.boxplot(y=Xstock['High'])"
   ]
  },
  {
   "cell_type": "code",
   "execution_count": 156,
   "id": "favorite-mitchell",
   "metadata": {},
   "outputs": [
    {
     "data": {
      "text/plain": [
       "<AxesSubplot:ylabel='Low'>"
      ]
     },
     "execution_count": 156,
     "metadata": {},
     "output_type": "execute_result"
    },
    {
     "data": {
      "image/png": "[encoded data removed]",
      "text/plain": [
       "<Figure size 432x288 with 1 Axes>"
      ]
     },
     "metadata": {},
     "output_type": "display_data"
    }
   ],
   "source": [
    "sns.boxplot(y=Xstock['Low'])"
   ]
  },
  {
   "cell_type": "code",
   "execution_count": 157,
   "id": "brown-baltimore",
   "metadata": {},
   "outputs": [
    {
     "data": {
      "text/plain": [
       "<AxesSubplot:ylabel='Open'>"
      ]
     },
     "execution_count": 157,
     "metadata": {},
     "output_type": "execute_result"
    },
    {
     "data": {
      "image/png": "[encoded data removed]",
      "text/plain": [
       "<Figure size 432x288 with 1 Axes>"
      ]
     },
     "metadata": {},
     "output_type": "display_data"
    }
   ],
   "source": [
    "sns.boxplot(y=Xstock['Open'])"
   ]
  },
  {
   "cell_type": "code",
   "execution_count": 158,
   "id": "roman-senate",
   "metadata": {},
   "outputs": [
    {
     "data": {
      "text/plain": [
       "<AxesSubplot:ylabel='Close'>"
      ]
     },
     "execution_count": 158,
     "metadata": {},
     "output_type": "execute_result"
    },
    {
     "data": {
      "image/png": "[encoded data removed]",
      "text/plain": [
       "<Figure size 432x288 with 1 Axes>"
      ]
     },
     "metadata": {},
     "output_type": "display_data"
    }
   ],
   "source": [
    "sns.boxplot(y=Xstock['Close'])"
   ]
  },
  {
   "cell_type": "code",
   "execution_count": 160,
   "id": "polar-baseball",
   "metadata": {},
   "outputs": [
    {
     "data": {
      "text/plain": [
       "<AxesSubplot:ylabel='Volume'>"
      ]
     },
     "execution_count": 160,
     "metadata": {},
     "output_type": "execute_result"
    },
    {
     "data": {
      "image/png": "[encoded data removed]",
      "text/plain": [
       "<Figure size 432x288 with 1 Axes>"
      ]
     },
     "metadata": {},
     "output_type": "display_data"
    }
   ],
   "source": [
    "sns.boxplot(y=Xstock['Volume'], color='red')"
   ]
  },
  {
   "cell_type": "code",
   "execution_count": 161,
   "id": "solid-penny",
   "metadata": {},
   "outputs": [
    {
     "data": {
      "text/plain": [
       "<AxesSubplot:ylabel='Adj Close'>"
      ]
     },
     "execution_count": 161,
     "metadata": {},
     "output_type": "execute_result"
    },
    {
     "data": {
      "image/png": "[encoded data removed]",
      "text/plain": [
       "<Figure size 432x288 with 1 Axes>"
      ]
     },
     "metadata": {},
     "output_type": "display_data"
    }
   ],
   "source": [
    "sns.boxplot(y=Xstock['Adj Close'])"
   ]
  },
  {
   "cell_type": "markdown",
   "id": "neutral-james",
   "metadata": {},
   "source": [
    "### Correlation in the data"
   ]
  },
  {
   "cell_type": "code",
   "execution_count": 162,
   "id": "digital-chart",
   "metadata": {},
   "outputs": [
    {
     "data": {
      "text/plain": [
       "<AxesSubplot:>"
      ]
     },
     "execution_count": 162,
     "metadata": {},
     "output_type": "execute_result"
    },
    {
     "data": {
      "image/png": "[encoded data removed]",
      "text/plain": [
       "<Figure size 432x288 with 2 Axes>"
      ]
     },
     "metadata": {},
     "output_type": "display_data"
    }
   ],
   "source": [
    "sns.heatmap(Xstock.corr(), annot=True)"
   ]
  },
  {
   "cell_type": "markdown",
   "id": "rental-crime",
   "metadata": {},
   "source": [
    "### We will not use Volume because it has a lot of outliers and less correlation with our target"
   ]
  },
  {
   "cell_type": "markdown",
   "id": "floppy-necessity",
   "metadata": {},
   "source": [
    "#### Divide data between testing and training"
   ]
  },
  {
   "cell_type": "code",
   "execution_count": 5,
   "id": "functional-print",
   "metadata": {},
   "outputs": [
    {
     "data": {
      "text/plain": [
       "array([[ 52411.       ],\n",
       "       [ 53228.       ],\n",
       "       [ 52894.       ],\n",
       "       ...,\n",
       "       [118313.       ],\n",
       "       [117670.       ],\n",
       "       [118811.7421875]])"
      ]
     },
     "execution_count": 5,
     "metadata": {},
     "output_type": "execute_result"
    }
   ],
   "source": [
    "X = Xstock.drop(['Date', 'Volume'], axis=1)\n",
    "y = ystock['Adj Close'].values\n",
    "y = y.reshape(-1, 1)\n",
    "y = y[1:]\n",
    "y"
   ]
  },
  {
   "cell_type": "code",
   "execution_count": 240,
   "id": "close-turning",
   "metadata": {},
   "outputs": [],
   "source": [
    "X_train, X_test, y_train, y_test = train_test_split(X, y, test_size=0.33, random_state=1)"
   ]
  },
  {
   "cell_type": "markdown",
   "id": "annual-spring",
   "metadata": {},
   "source": [
    "## Applying Multi Layer Perceptron Regression Model (Neural Network)\n"
   ]
  },
  {
   "cell_type": "code",
   "execution_count": 225,
   "id": "frank-dylan",
   "metadata": {},
   "outputs": [],
   "source": [
    "model = MLPRegressor(hidden_layer_sizes=(4,4,4), max_iter=2000, tol=1e-8, learning_rate='adaptive' )"
   ]
  },
  {
   "cell_type": "code",
   "execution_count": 226,
   "id": "brown-intellectual",
   "metadata": {},
   "outputs": [
    {
     "name": "stderr",
     "output_type": "stream",
     "text": [
      "c:\\users\\aheng\\pycharmprojects\\kaggleprojects\\venv\\lib\\site-packages\\sklearn\\utils\\validation.py:63: DataConversionWarning: A column-vector y was passed when a 1d array was expected. Please change the shape of y to (n_samples, ), for example using ravel().\n",
      "  return f(*args, **kwargs)\n"
     ]
    },
    {
     "data": {
      "text/plain": [
       "MLPRegressor(hidden_layer_sizes=(4, 4, 4), learning_rate='adaptive',\n",
       "             max_iter=2000, tol=1e-08)"
      ]
     },
     "execution_count": 226,
     "metadata": {},
     "output_type": "execute_result"
    }
   ],
   "source": [
    "model.fit(X_train, y_train)"
   ]
  },
  {
   "cell_type": "code",
   "execution_count": 227,
   "id": "taken-utilization",
   "metadata": {},
   "outputs": [
    {
     "data": {
      "text/plain": [
       "0.9909633644073863"
      ]
     },
     "execution_count": 227,
     "metadata": {},
     "output_type": "execute_result"
    }
   ],
   "source": [
    "model.score(X,y)"
   ]
  },
  {
   "cell_type": "code",
   "execution_count": 228,
   "id": "refined-beatles",
   "metadata": {},
   "outputs": [
    {
     "data": {
      "text/plain": [
       "array([118311.69243163])"
      ]
     },
     "execution_count": 228,
     "metadata": {},
     "output_type": "execute_result"
    }
   ],
   "source": [
    "model.predict(X[-1:])"
   ]
  },
  {
   "cell_type": "code",
   "execution_count": 229,
   "id": "western-conservation",
   "metadata": {},
   "outputs": [],
   "source": [
    "priceYesterday = X[-1:]['Adj Close'].values\n",
    "pricePredicted = model.predict(X[-1:])\n",
    "priceRealToday = ystock[-1:]['Adj Close'].values"
   ]
  },
  {
   "cell_type": "code",
   "execution_count": 230,
   "id": "considerable-program",
   "metadata": {},
   "outputs": [
    {
     "name": "stdout",
     "output_type": "stream",
     "text": [
      "Price Yesterday:  [117670.] Price Predicted:  [118311.69243163] Real Price Today:  [118811.7421875]\n",
      "Price Predicted var %:  [0.54533223]\n",
      "Price Today var %:  [0.97029165]\n"
     ]
    }
   ],
   "source": [
    "print(\"Price Yesterday: \", priceYesterday, \"Price Predicted: \", pricePredicted, \"Real Price Today: \", priceRealToday)\n",
    "print(\"Price Predicted var %: \", ((pricePredicted-priceYesterday)/priceYesterday)*100)\n",
    "print(\"Price Today var %: \", ((priceRealToday-priceYesterday)/priceYesterday)*100)"
   ]
  },
  {
   "attachments": {
    "image.png": {
     "image/png": "[encoded data removed]"
    }
   },
   "cell_type": "markdown",
   "id": "early-registrar",
   "metadata": {},
   "source": [
    "![image.png](attachment:image.png)"
   ]
  },
  {
   "cell_type": "markdown",
   "id": "reduced-victim",
   "metadata": {},
   "source": [
    "## The model worked as a forecast of IBOV Index on April 12, 2021."
   ]
  },
  {
   "cell_type": "code",
   "execution_count": 231,
   "id": "psychological-inspector",
   "metadata": {},
   "outputs": [],
   "source": [
    "predict = model.predict(X_test)"
   ]
  },
  {
   "attachments": {},
   "cell_type": "markdown",
   "id": "alone-shape",
   "metadata": {},
   "source": [
    "### Metrics Evaluation"
   ]
  },
  {
   "cell_type": "code",
   "execution_count": 233,
   "id": "hollywood-orientation",
   "metadata": {},
   "outputs": [
    {
     "name": "stdout",
     "output_type": "stream",
     "text": [
      "R2:  0.9925289024351514\n",
      "MAE:  1255.7835390311752\n",
      "MSE:  1676.1261564596953\n",
      "RMSE:  2809398.8923683506 \n",
      "\n",
      "Model Score in train data:  0.9901800237237196\n",
      "Model Score in test data:  0.9925289024351514\n"
     ]
    }
   ],
   "source": [
    "R2 = r2_score(y_test, predict)\n",
    "MAE = mean_absolute_error(y_test, predict)\n",
    "MSE = mean_squared_error(y_test, predict, squared=False)\n",
    "RMSE= mean_squared_error(y_test, predict, squared=True)\n",
    "print(\"R2: \", R2)\n",
    "print(\"MAE: \", MAE)\n",
    "print(\"MSE: \", MSE)\n",
    "print(\"RMSE: \", RMSE, '\\n')\n",
    "print(\"Model Score in train data: \", model.score(X_train, y_train))\n",
    "print(\"Model Score in test data: \", model.score(X_test, y_test))"
   ]
  },
  {
   "cell_type": "markdown",
   "id": "documentary-congress",
   "metadata": {},
   "source": [
    "### Cross Validation"
   ]
  },
  {
   "cell_type": "code",
   "execution_count": 236,
   "id": "effective-campus",
   "metadata": {},
   "outputs": [
    {
     "name": "stderr",
     "output_type": "stream",
     "text": [
      "c:\\users\\aheng\\pycharmprojects\\kaggleprojects\\venv\\lib\\site-packages\\sklearn\\utils\\validation.py:63: DataConversionWarning: A column-vector y was passed when a 1d array was expected. Please change the shape of y to (n_samples, ), for example using ravel().\n",
      "  return f(*args, **kwargs)\n",
      "c:\\users\\aheng\\pycharmprojects\\kaggleprojects\\venv\\lib\\site-packages\\sklearn\\utils\\validation.py:63: DataConversionWarning: A column-vector y was passed when a 1d array was expected. Please change the shape of y to (n_samples, ), for example using ravel().\n",
      "  return f(*args, **kwargs)\n",
      "c:\\users\\aheng\\pycharmprojects\\kaggleprojects\\venv\\lib\\site-packages\\sklearn\\utils\\validation.py:63: DataConversionWarning: A column-vector y was passed when a 1d array was expected. Please change the shape of y to (n_samples, ), for example using ravel().\n",
      "  return f(*args, **kwargs)\n",
      "c:\\users\\aheng\\pycharmprojects\\kaggleprojects\\venv\\lib\\site-packages\\sklearn\\utils\\validation.py:63: DataConversionWarning: A column-vector y was passed when a 1d array was expected. Please change the shape of y to (n_samples, ), for example using ravel().\n",
      "  return f(*args, **kwargs)\n",
      "c:\\users\\aheng\\pycharmprojects\\kaggleprojects\\venv\\lib\\site-packages\\sklearn\\utils\\validation.py:63: DataConversionWarning: A column-vector y was passed when a 1d array was expected. Please change the shape of y to (n_samples, ), for example using ravel().\n",
      "  return f(*args, **kwargs)\n"
     ]
    },
    {
     "data": {
      "text/plain": [
       "array([0.97775152, 0.98629701, 0.94770681, 0.96011249, 0.98189215])"
      ]
     },
     "execution_count": 236,
     "metadata": {},
     "output_type": "execute_result"
    }
   ],
   "source": [
    "cross_val_score(model, X, y, cv=5)"
   ]
  },
  {
   "cell_type": "markdown",
   "id": "looking-recognition",
   "metadata": {},
   "source": [
    "### Distribuition - Residual"
   ]
  },
  {
   "cell_type": "code",
   "execution_count": 235,
   "id": "generic-green",
   "metadata": {},
   "outputs": [
    {
     "name": "stderr",
     "output_type": "stream",
     "text": [
      "c:\\users\\aheng\\pycharmprojects\\kaggleprojects\\venv\\lib\\site-packages\\seaborn\\distributions.py:2557: FutureWarning: `distplot` is a deprecated function and will be removed in a future version. Please adapt your code to use either `displot` (a figure-level function with similar flexibility) or `histplot` (an axes-level function for histograms).\n",
      "  warnings.warn(msg, FutureWarning)\n"
     ]
    },
    {
     "data": {
      "text/plain": [
       "<AxesSubplot:ylabel='Density'>"
      ]
     },
     "execution_count": 235,
     "metadata": {},
     "output_type": "execute_result"
    },
    {
     "data": {
      "image/png": "[encoded data removed]",
      "text/plain": [
       "<Figure size 432x288 with 1 Axes>"
      ]
     },
     "metadata": {},
     "output_type": "display_data"
    }
   ],
   "source": [
    "sns.distplot((y_test-predict),bins=50)"
   ]
  },
  {
   "cell_type": "markdown",
   "id": "social-individual",
   "metadata": {},
   "source": [
    "### Other Regression Models"
   ]
  },
  {
   "cell_type": "code",
   "execution_count": 273,
   "id": "material-cattle",
   "metadata": {},
   "outputs": [
    {
     "name": "stderr",
     "output_type": "stream",
     "text": [
      "c:\\users\\aheng\\pycharmprojects\\kaggleprojects\\venv\\lib\\site-packages\\sklearn\\linear_model\\_coordinate_descent.py:532: ConvergenceWarning: Objective did not converge. You might want to increase the number of iterations. Duality gap: 907008435.9030693, tolerance: 30867453.23223935\n",
      "  positive)\n",
      "c:\\users\\aheng\\pycharmprojects\\kaggleprojects\\venv\\lib\\site-packages\\sklearn\\linear_model\\_coordinate_descent.py:532: ConvergenceWarning: Objective did not converge. You might want to increase the number of iterations. Duality gap: 907139624.4878469, tolerance: 30867453.23223935\n",
      "  positive)\n",
      "c:\\users\\aheng\\pycharmprojects\\kaggleprojects\\venv\\lib\\site-packages\\ipykernel_launcher.py:8: DataConversionWarning: A column-vector y was passed when a 1d array was expected. Please change the shape of y to (n_samples,), for example using ravel().\n",
      "  \n",
      "c:\\users\\aheng\\pycharmprojects\\kaggleprojects\\venv\\lib\\site-packages\\sklearn\\utils\\validation.py:63: DataConversionWarning: A column-vector y was passed when a 1d array was expected. Please change the shape of y to (n_samples, ), for example using ravel().\n",
      "  return f(*args, **kwargs)\n",
      "c:\\users\\aheng\\pycharmprojects\\kaggleprojects\\venv\\lib\\site-packages\\sklearn\\utils\\validation.py:63: DataConversionWarning: A column-vector y was passed when a 1d array was expected. Please change the shape of y to (n_samples, ), for example using ravel().\n",
      "  return f(*args, **kwargs)\n",
      "c:\\users\\aheng\\pycharmprojects\\kaggleprojects\\venv\\lib\\site-packages\\sklearn\\utils\\validation.py:63: DataConversionWarning: A column-vector y was passed when a 1d array was expected. Please change the shape of y to (n_samples, ), for example using ravel().\n",
      "  return f(*args, **kwargs)\n"
     ]
    }
   ],
   "source": [
    "Scores = {}\n",
    "TodayValues = {}\n",
    "for method in methods:\n",
    "    if method == SVR:\n",
    "        method = SVR(kernel='linear')\n",
    "    else:\n",
    "        method = method()\n",
    "    method.fit(X_train, y_train)\n",
    "    Scores[method] = method.score(X_test, y_test)\n",
    "    TodayValues[method] = method.predict(X[-1:])"
   ]
  },
  {
   "cell_type": "code",
   "execution_count": 276,
   "id": "enclosed-excellence",
   "metadata": {},
   "outputs": [
    {
     "data": {
      "text/plain": [
       "{Ridge(): 0.9950554133840769,\n",
       " Lasso(): 0.9950598274826292,\n",
       " ElasticNet(): 0.9950598277100752,\n",
       " LinearRegression(): 0.995055413383503,\n",
       " DecisionTreeRegressor(): 0.991499891753641,\n",
       " RandomForestRegressor(): 0.9943457769741545,\n",
       " SVR(kernel='linear'): 0.9948468947620572,\n",
       " GradientBoostingRegressor(): 0.9946883992014286,\n",
       " AdaBoostRegressor(): 0.9852383889803709,\n",
       " sklearn.neural_network._multilayer_perceptron.MLPRegressor: 0.9925289024351514}"
      ]
     },
     "execution_count": 276,
     "metadata": {},
     "output_type": "execute_result"
    }
   ],
   "source": [
    "Scores[MLPRegressor] = model.score(X_test,y_test)\n",
    "Scores"
   ]
  },
  {
   "cell_type": "code",
   "execution_count": 277,
   "id": "expired-labor",
   "metadata": {},
   "outputs": [
    {
     "data": {
      "text/plain": [
       "{Ridge(): array([[117610.79685082]]),\n",
       " Lasso(): array([117613.728907]),\n",
       " ElasticNet(): array([117613.72906501]),\n",
       " LinearRegression(): array([[117610.79685053]]),\n",
       " DecisionTreeRegressor(): array([116016.]),\n",
       " RandomForestRegressor(): array([116444.14]),\n",
       " SVR(kernel='linear'): array([117744.00138208]),\n",
       " GradientBoostingRegressor(): array([116936.64073897]),\n",
       " AdaBoostRegressor(): array([117650.82]),\n",
       " sklearn.neural_network._multilayer_perceptron.MLPRegressor: array([118311.69243163])}"
      ]
     },
     "execution_count": 277,
     "metadata": {},
     "output_type": "execute_result"
    }
   ],
   "source": [
    "TodayValues[MLPRegressor] = pricePredicted\n",
    "TodayValues"
   ]
  },
  {
   "cell_type": "markdown",
   "id": "amateur-heather",
   "metadata": {},
   "source": [
    "Neural Networks still has the better results for today values"
   ]
  },
  {
   "cell_type": "code",
   "execution_count": 298,
   "id": "fresh-anaheim",
   "metadata": {},
   "outputs": [
    {
     "name": "stderr",
     "output_type": "stream",
     "text": [
      "c:\\users\\aheng\\pycharmprojects\\kaggleprojects\\venv\\lib\\site-packages\\seaborn\\_decorators.py:43: FutureWarning: Pass the following variables as keyword args: x, y. From version 0.12, the only valid positional argument will be `data`, and passing other arguments without an explicit keyword will result in an error or misinterpretation.\n",
      "  FutureWarning\n"
     ]
    },
    {
     "data": {
      "text/plain": [
       "<AxesSubplot:xlabel='Adj Close'>"
      ]
     },
     "execution_count": 298,
     "metadata": {},
     "output_type": "execute_result"
    },
    {
     "data": {
      "image/png": "[encoded data removed]",
      "text/plain": [
       "<Figure size 432x288 with 1 Axes>"
      ]
     },
     "metadata": {},
     "output_type": "display_data"
    }
   ],
   "source": [
    "sns.scatterplot(X['Adj Close'], model.predict(X), )"
   ]
  },
  {
   "cell_type": "code",
   "execution_count": null,
   "id": "casual-memorabilia",
   "metadata": {},
   "outputs": [],
   "source": []
  }
 ],
 "metadata": {
  "kernelspec": {
   "display_name": "Python 3",
   "language": "python",
   "name": "python3"
  },
  "language_info": {
   "codemirror_mode": {
    "name": "ipython",
    "version": 3
   },
   "file_extension": ".py",
   "mimetype": "text/x-python",
   "name": "python",
   "nbconvert_exporter": "python",
   "pygments_lexer": "ipython3",
   "version": "3.7.8"
  }
 },
 "nbformat": 4,
 "nbformat_minor": 5
}
